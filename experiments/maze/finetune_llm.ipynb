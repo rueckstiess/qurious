{
 "cells": [
  {
   "cell_type": "code",
   "execution_count": 1,
   "metadata": {},
   "outputs": [],
   "source": [
    "import os\n",
    "\n",
    "os.environ[\"TOKENIZERS_PARALLELISM\"] = \"false\"\n",
    "os.environ[\"MLFLOW_TRACKING_URI\"] = \"http://localhost:5000\""
   ]
  },
  {
   "cell_type": "markdown",
   "metadata": {},
   "source": [
    "## Configuration"
   ]
  },
  {
   "cell_type": "code",
   "execution_count": 2,
   "metadata": {},
   "outputs": [],
   "source": [
    "from qurious.config import Config\n",
    "\n",
    "config = Config.from_yaml(\"./config.yaml\")"
   ]
  },
  {
   "cell_type": "markdown",
   "metadata": {},
   "source": [
    "## Load Grid World dataset"
   ]
  },
  {
   "cell_type": "code",
   "execution_count": 10,
   "metadata": {},
   "outputs": [
    {
     "data": {
      "text/html": [
       "<style> .dataframe th, .dataframe tbody td { text-align: left; padding-right: 30px; } </style> <table border=\"1\" class=\"dataframe\">\n",
       "  <thead>\n",
       "    <tr style=\"text-align: right;\">\n",
       "      <th></th>\n",
       "      <th>prompt</th>\n",
       "      <th>response</th>\n",
       "      <th>env</th>\n",
       "      <th>size</th>\n",
       "      <th>actions</th>\n",
       "      <th>numeric_actions</th>\n",
       "      <th>n_steps</th>\n",
       "      <th>start_pos</th>\n",
       "      <th>goal_pos</th>\n",
       "      <th>obstacles</th>\n",
       "    </tr>\n",
       "  </thead>\n",
       "  <tbody>\n",
       "    <tr>\n",
       "      <th>0</th>\n",
       "      <td>Grid World:\\n. # . . .\\n. # . . .\\n. . . A G\\n. . . # .\\n. . # # .\\n\\nActions:\\n</td>\n",
       "      <td>right</td>\n",
       "      <td>. # . . .<br>. # . . .<br>. . . A G<br>. . . # .<br>. . # # .<br></td>\n",
       "      <td>5</td>\n",
       "      <td>right</td>\n",
       "      <td>[1]</td>\n",
       "      <td>1</td>\n",
       "      <td>[2, 3]</td>\n",
       "      <td>[2, 4]</td>\n",
       "      <td>[[3, 3], [4, 3], [1, 1], [4, 2], [0, 1]]</td>\n",
       "    </tr>\n",
       "    <tr>\n",
       "      <th>1</th>\n",
       "      <td>Grid World:\\n. . . . # . # . . .\\n# . . . . . . . . .\\n. . . . . # . . . .\\n. . . . . . . . . .\\n. G # . # . . . . .\\n. . . . . # . . # #\\n. . . . . . # . . .\\n. . . . . . # . # .\\n. . . . . . . . # .\\n. . . . . # . . # A\\n\\nActions:\\n</td>\n",
       "      <td>up up up left left up left up up left left left left left down</td>\n",
       "      <td>. . . . # . # . . .<br># . . . . . . . . .<br>. . . . . # . . . .<br>. . . . . . . . . .<br>. G # . # . . . . .<br>. . . . . # . . # #<br>. . . . . . # . . .<br>. . . . . . # . # .<br>. . . . . . . . # .<br>. . . . . # . . # A<br></td>\n",
       "      <td>10</td>\n",
       "      <td>up up up left left up left up up left left left left left down</td>\n",
       "      <td>[0, 0, 0, 3, 3, 0, 3, 0, 0, 3, 3, 3, 3, 3, 2]</td>\n",
       "      <td>15</td>\n",
       "      <td>[9, 9]</td>\n",
       "      <td>[4, 1]</td>\n",
       "      <td>[[1, 0], [2, 5], [4, 4], [8, 8], [4, 2], [0, 4], [9, 8], [6, 6], [9, 8], [5, 8], [5, 5], [9, 5], [0, 6], [7, 6], [1, 0], [7, 8], [5, 9], [7, 6]]</td>\n",
       "    </tr>\n",
       "    <tr>\n",
       "      <th>2</th>\n",
       "      <td>Grid World:\\n. # . A . . . .\\n. . . . . # . .\\n. G . # . . . .\\n# . . . . . . .\\n. . . # . . . .\\n. . . . . . # .\\n. . . . . # # .\\n. . . # . . . .\\n\\nActions:\\n</td>\n",
       "      <td>left down down left</td>\n",
       "      <td>. # . A . . . .<br>. . . . . # . .<br>. G . # . . . .<br># . . . . . . .<br>. . . # . . . .<br>. . . . . . # .<br>. . . . . # # .<br>. . . # . . . .<br></td>\n",
       "      <td>8</td>\n",
       "      <td>left down down left</td>\n",
       "      <td>[3, 2, 2, 3]</td>\n",
       "      <td>4</td>\n",
       "      <td>[0, 3]</td>\n",
       "      <td>[2, 1]</td>\n",
       "      <td>[[3, 0], [6, 5], [6, 6], [6, 6], [4, 3], [5, 6], [7, 3], [1, 5], [1, 5], [2, 3], [0, 1]]</td>\n",
       "    </tr>\n",
       "  </tbody>\n",
       "</table>"
      ],
      "text/plain": [
       "<IPython.core.display.HTML object>"
      ]
     },
     "metadata": {},
     "output_type": "display_data"
    }
   ],
   "source": [
    "from datasets import load_dataset\n",
    "\n",
    "from qurious.utils import display_pd_table\n",
    "\n",
    "dataset = load_dataset(\"json\", data_files=\"./grid_world_1k.jsonl\")[\"train\"]\n",
    "display_pd_table(dataset.select(range(3)), replace_newlines=[\"env\"])"
   ]
  },
  {
   "cell_type": "markdown",
   "metadata": {},
   "source": [
    "## Split Train and Test Dataset"
   ]
  },
  {
   "cell_type": "code",
   "execution_count": 12,
   "metadata": {},
   "outputs": [
    {
     "name": "stdout",
     "output_type": "stream",
     "text": [
      "Training dataset contains 800 examples\n",
      "Test dataset contains 200 examples\n"
     ]
    }
   ],
   "source": [
    "dataset = dataset.train_test_split(test_size=0.2, seed=42)\n",
    "\n",
    "print(f\"Training dataset contains {len(dataset['train'])} examples\")\n",
    "print(f\"Test dataset contains {len(dataset['test'])} examples\")"
   ]
  },
  {
   "cell_type": "markdown",
   "metadata": {},
   "source": [
    "## Load models and tokenizer with LoraManager"
   ]
  },
  {
   "cell_type": "code",
   "execution_count": 13,
   "metadata": {},
   "outputs": [
    {
     "name": "stdout",
     "output_type": "stream",
     "text": [
      "using device: mps\n",
      "Loading base model: meta-llama/Llama-3.2-3B\n"
     ]
    },
    {
     "data": {
      "application/vnd.jupyter.widget-view+json": {
       "model_id": "862d0ce514a74492a54dbb8b079ed396",
       "version_major": 2,
       "version_minor": 0
      },
      "text/plain": [
       "Loading checkpoint shards:   0%|          | 0/2 [00:00<?, ?it/s]"
      ]
     },
     "metadata": {},
     "output_type": "display_data"
    },
    {
     "name": "stdout",
     "output_type": "stream",
     "text": [
      "Creating adapter: default\n",
      "trainable params: 12156928 || all params: 3224906752 || trainable%: 0.38%\n"
     ]
    }
   ],
   "source": [
    "from qurious.llms.lora_manager import LoraManager\n",
    "\n",
    "lora_manager = LoraManager(config)\n",
    "\n",
    "# Get the PEFT model\n",
    "peft_model = lora_manager.get_model(\"default\")\n",
    "tokenizer = lora_manager.tokenizer\n",
    "\n",
    "# Make sure the model is in training mode and parameters require gradients\n",
    "peft_model.train()\n",
    "\n",
    "# Verify parameters require gradients\n",
    "trainable_params = 0\n",
    "all_param = 0\n",
    "for param in peft_model.parameters():\n",
    "    all_param += param.numel()\n",
    "    if param.requires_grad:\n",
    "        trainable_params += param.numel()\n",
    "\n",
    "print(\n",
    "    f\"trainable params: {trainable_params} || all params: {all_param} || trainable%: {100 * trainable_params / all_param:.2f}%\"\n",
    ")"
   ]
  },
  {
   "cell_type": "markdown",
   "metadata": {},
   "source": [
    "## Padding the Training Dataset"
   ]
  },
  {
   "cell_type": "code",
   "execution_count": null,
   "metadata": {},
   "outputs": [],
   "source": [
    "# You can use a different max length if your custom dataset has shorter/longer input sequences.\n",
    "MAX_LENGTH = 130\n",
    "\n",
    "\n",
    "def tokenize_and_pad_to_fixed_length(sample):\n",
    "    result = tokenizer(\n",
    "        sample[\"text\"],\n",
    "        truncation=True,\n",
    "        max_length=MAX_LENGTH,\n",
    "        padding=\"max_length\",\n",
    "    )\n",
    "    result[\"labels\"] = result[\"input_ids\"].copy()\n",
    "    return result\n",
    "\n",
    "\n",
    "tokenized_train_dataset = dataset[\"train\"].map(\n",
    "    tokenize_and_pad_to_fixed_length, remove_columns=dataset[\"train\"].column_names\n",
    ")\n",
    "tokenized_eval_dataset = dataset[\"test\"].map(\n",
    "    tokenize_and_pad_to_fixed_length, remove_columns=dataset[\"test\"].column_names\n",
    ")\n",
    "\n",
    "assert all(len(x[\"input_ids\"]) == MAX_LENGTH for x in tokenized_train_dataset)\n",
    "assert all(len(x[\"input_ids\"]) == MAX_LENGTH for x in tokenized_eval_dataset)\n",
    "\n",
    "# assert that every attention_mask starts with a 0 (no example is cut off)\n",
    "assert all(x[\"attention_mask\"][0] == 0 for x in tokenized_train_dataset if len(x[\"attention_mask\"]) > 0)\n",
    "assert all(x[\"attention_mask\"][0] == 0 for x in tokenized_eval_dataset if len(x[\"attention_mask\"]) > 0)\n",
    "\n",
    "display_pd_table(tokenized_train_dataset.select(range(1)))\n",
    "\n",
    "print(tokenizer.decode(tokenized_train_dataset[0][\"input_ids\"], skip_special_tokens=True))"
   ]
  },
  {
   "cell_type": "markdown",
   "metadata": {},
   "source": [
    "## Train Model"
   ]
  },
  {
   "cell_type": "code",
   "execution_count": null,
   "metadata": {},
   "outputs": [],
   "source": [
    "from torch.nn import CrossEntropyLoss\n",
    "from torch.optim import AdamW\n",
    "from torch.optim.lr_scheduler import LinearLR\n",
    "from torch.utils.data import DataLoader\n",
    "\n",
    "from qurious.llms.trainer import Trainer\n",
    "\n",
    "# make data loaders for PyTorch format\n",
    "train_dataloader = DataLoader(tokenized_train_dataset.with_format(\"torch\"), batch_size=8, shuffle=True)\n",
    "eval_dataloader = DataLoader(tokenized_eval_dataset.with_format(\"torch\"), batch_size=8, shuffle=False)\n",
    "\n",
    "optimizer = AdamW(peft_model.parameters(), lr=config.training.learning_rate, weight_decay=0.01)\n",
    "scheduler = LinearLR(optimizer, start_factor=1, end_factor=0.1, total_iters=len(dataset[\"train\"]))\n",
    "loss_fn = CrossEntropyLoss()\n",
    "\n",
    "trainer = Trainer(\n",
    "    model=peft_model,\n",
    "    config=config,\n",
    "    optimizer=optimizer,\n",
    "    scheduler=scheduler,\n",
    "    loggers=[\"console\", \"mlflow\"],\n",
    "    experiment_name=\"maze-supervised-finetune\",\n",
    "    loss_fn=loss_fn,\n",
    ")\n"
   ]
  },
  {
   "cell_type": "code",
   "execution_count": null,
   "metadata": {},
   "outputs": [],
   "source": [
    "trainer.train(train_dataloader=train_dataloader, eval_dataloader=eval_dataloader, num_epochs=2)"
   ]
  },
  {
   "cell_type": "markdown",
   "metadata": {},
   "source": [
    "## Generate outputs"
   ]
  },
  {
   "cell_type": "code",
   "execution_count": null,
   "metadata": {},
   "outputs": [],
   "source": [
    "import torch\n",
    "from tqdm import tqdm\n",
    "\n",
    "eval_samples = dataset[\"test\"].select(range(10))\n",
    "# model = lora_manager.get_base_model()\n",
    "model = peft_model\n",
    "\n",
    "# Generate outputs\n",
    "results = []\n",
    "for sample in tqdm(eval_samples):\n",
    "    # Assuming your dataset has 'input' and 'target' fields\n",
    "    # Adjust the field names as needed for your specific dataset\n",
    "    input_text = sample[\"prompt\"]\n",
    "    reference = sample[\"response\"]\n",
    "\n",
    "    # Tokenize and generate\n",
    "    inputs = tokenizer(\n",
    "        input_text,\n",
    "        return_tensors=\"pt\",\n",
    "    ).to(model.device)\n",
    "\n",
    "    with torch.no_grad():\n",
    "        outputs = model.generate(\n",
    "            **inputs,\n",
    "            max_new_tokens=20,  # Adjust as needed\n",
    "            do_sample=True,\n",
    "            temperature=0.3,\n",
    "            top_p=0.9,\n",
    "            pad_token_id=tokenizer.eos_token_id,\n",
    "        )\n",
    "\n",
    "    # Decode the generated output\n",
    "    generated_text = tokenizer.decode(outputs[0], skip_special_tokens=True)\n",
    "\n",
    "    # Extract only the newly generated part (optional)\n",
    "    # This is model and tokenizer specific, you may need to adjust\n",
    "    generated_response = generated_text[len(tokenizer.decode(inputs[\"input_ids\"][0], skip_special_tokens=True)) :]\n",
    "\n",
    "    results.append({\"input\": input_text, \"generated\": generated_response, \"reference\": reference})\n",
    "\n",
    "\n",
    "display_pd_table(results, replace_newlines=[\"input\", \"generated\", \"reference\"])"
   ]
  },
  {
   "cell_type": "code",
   "execution_count": null,
   "metadata": {},
   "outputs": [],
   "source": [
    "config.save_yaml(\"config.yaml\")"
   ]
  }
 ],
 "metadata": {
  "kernelspec": {
   "display_name": ".venv",
   "language": "python",
   "name": "python3"
  },
  "language_info": {
   "codemirror_mode": {
    "name": "ipython",
    "version": 3
   },
   "file_extension": ".py",
   "mimetype": "text/x-python",
   "name": "python",
   "nbconvert_exporter": "python",
   "pygments_lexer": "ipython3",
   "version": "3.11.9"
  }
 },
 "nbformat": 4,
 "nbformat_minor": 2
}
