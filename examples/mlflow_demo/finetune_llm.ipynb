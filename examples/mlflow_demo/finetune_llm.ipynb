{
 "cells": [
  {
   "cell_type": "code",
   "execution_count": 1,
   "metadata": {},
   "outputs": [],
   "source": [
    "import os\n",
    "\n",
    "os.environ[\"TOKENIZERS_PARALLELISM\"] = \"false\"\n",
    "os.environ[\"MLFLOW_TRACKING_URI\"] = \"http://localhost:5000\""
   ]
  },
  {
   "cell_type": "markdown",
   "metadata": {},
   "source": [
    "## Load Dataset from HuggingFace Hub\n",
    "\n",
    "We will use the b-mc2/sql-create-context dataset from the Hugging Face Hub for this tutorial. This dataset comprises 78.6k pairs of natural language queries and their corresponding SQL statements, making it ideal for training a text-to-SQL model. The dataset includes three columns:\n",
    "\n",
    "- `question`: A natural language question posed regarding the data.\n",
    "- `context`: Additional information about the data, such as the schema for the table being queried.\n",
    "- `answer`: The SQL query that represents the expected output."
   ]
  },
  {
   "cell_type": "code",
   "execution_count": 2,
   "metadata": {},
   "outputs": [
    {
     "data": {
      "text/html": [
       "<style> .dataframe th, .dataframe tbody td { text-align: left; padding-right: 30px; } </style> <table border=\"1\" class=\"dataframe\">  <thead>    <tr style=\"text-align: right;\">      <th></th>      <th>answer</th>      <th>question</th>      <th>context</th>    </tr>  </thead>  <tbody>    <tr>      <th>0</th>      <td>SELECT COUNT(*) FROM head WHERE age &gt; 56</td>      <td>How many heads of the departments are older than 56 ?</td>      <td>CREATE TABLE head (age INTEGER)</td>    </tr>    <tr>      <th>1</th>      <td>SELECT name, born_state, age FROM head ORDER BY age</td>      <td>List the name, born state and age of the heads of departments ordered by age.</td>      <td>CREATE TABLE head (name VARCHAR, born_state VARCHAR, age VARCHAR)</td>    </tr>    <tr>      <th>2</th>      <td>SELECT creation, name, budget_in_billions FROM department</td>      <td>List the creation year, name and budget of each department.</td>      <td>CREATE TABLE department (creation VARCHAR, name VARCHAR, budget_in_billions VARCHAR)</td>    </tr>    <tr>      <th>3</th>      <td>SELECT MAX(budget_in_billions), MIN(budget_in_billions) FROM department</td>      <td>What are the maximum and minimum budget of the departments?</td>      <td>CREATE TABLE department (budget_in_billions INTEGER)</td>    </tr>    <tr>      <th>4</th>      <td>SELECT AVG(num_employees) FROM department WHERE ranking BETWEEN 10 AND 15</td>      <td>What is the average number of employees of the departments whose rank is between 10 and 15?</td>      <td>CREATE TABLE department (num_employees INTEGER, ranking INTEGER)</td>    </tr>  </tbody></table>"
      ],
      "text/plain": [
       "<IPython.core.display.HTML object>"
      ]
     },
     "metadata": {},
     "output_type": "display_data"
    }
   ],
   "source": [
    "import pandas as pd\n",
    "from datasets import load_dataset\n",
    "from IPython.display import HTML, display\n",
    "\n",
    "dataset_name = \"b-mc2/sql-create-context\"\n",
    "dataset = load_dataset(dataset_name, split=\"train[:10%]\")\n",
    "\n",
    "\n",
    "def display_table(dataset_or_sample):\n",
    "    # A helper fuction to display a Transformer dataset or single sample contains multi-line string nicely\n",
    "    pd.set_option(\"display.max_colwidth\", None)\n",
    "    pd.set_option(\"display.width\", None)\n",
    "    pd.set_option(\"display.max_rows\", None)\n",
    "\n",
    "    if isinstance(dataset_or_sample, dict):\n",
    "        df = pd.DataFrame(dataset_or_sample, index=[0])\n",
    "    else:\n",
    "        df = pd.DataFrame(dataset_or_sample)\n",
    "\n",
    "    html = df.to_html().replace(\"\\n\", \"\")\n",
    "    styled_html = (\n",
    "        f\"\"\"<style> .dataframe th, .dataframe tbody td {{ text-align: left; padding-right: 30px; }} </style> {html}\"\"\"\n",
    "    )\n",
    "    display(HTML(styled_html))\n",
    "\n",
    "\n",
    "display_table(dataset.select(range(5)))\n"
   ]
  },
  {
   "cell_type": "markdown",
   "metadata": {},
   "source": [
    "## Split Train and Test Dataset\n",
    "\n",
    "The `b-mc2/sql-create-context` dataset consists of a single split, \"train\". We will separate 20% of this as test samples."
   ]
  },
  {
   "cell_type": "code",
   "execution_count": 3,
   "metadata": {},
   "outputs": [
    {
     "name": "stdout",
     "output_type": "stream",
     "text": [
      "Training dataset contains 6286 text-to-SQL pairs\n",
      "Test dataset contains 1572 text-to-SQL pairs\n",
      "{'answer': 'SELECT COUNT(round) FROM table_1137694_3 WHERE winning_driver = \"Damon Hill\"', 'question': 'How many total rounds did Damon Hill come in First Place?', 'context': 'CREATE TABLE table_1137694_3 (round VARCHAR, winning_driver VARCHAR)'}\n"
     ]
    }
   ],
   "source": [
    "split_dataset = dataset.train_test_split(test_size=0.2, seed=42)\n",
    "train_dataset = split_dataset[\"train\"]\n",
    "test_dataset = split_dataset[\"test\"]\n",
    "\n",
    "print(f\"Training dataset contains {len(train_dataset)} text-to-SQL pairs\")\n",
    "print(f\"Test dataset contains {len(test_dataset)} text-to-SQL pairs\")\n",
    "\n",
    "print(train_dataset[0])"
   ]
  },
  {
   "cell_type": "markdown",
   "metadata": {},
   "source": [
    "## Define Prompt Template\n",
    "\n",
    "The Mistral 7B model is a text comprehension model, so we have to construct a text prompt that incorporates the user's question, context, and our system instructions. The new prompt column in the dataset will contain the text prompt to be fed into the model during training. It is important to note that we also include the expected response within the prompt, allowing the model to be trained in a self-supervised manner."
   ]
  },
  {
   "cell_type": "code",
   "execution_count": 4,
   "metadata": {},
   "outputs": [
    {
     "data": {
      "text/html": [
       "<style> .dataframe th, .dataframe tbody td { text-align: left; padding-right: 30px; } </style> <table border=\"1\" class=\"dataframe\">  <thead>    <tr style=\"text-align: right;\">      <th></th>      <th>answer</th>      <th>question</th>      <th>context</th>      <th>prompt</th>    </tr>  </thead>  <tbody>    <tr>      <th>0</th>      <td>SELECT COUNT(round) FROM table_1137694_3 WHERE winning_driver = \"Damon Hill\"</td>      <td>How many total rounds did Damon Hill come in First Place?</td>      <td>CREATE TABLE table_1137694_3 (round VARCHAR, winning_driver VARCHAR)</td>      <td>You are a powerful text-to-SQL model. Given the SQL tables and natural language question, your job is to write SQL query that answers the question.\\n\\n### Table:\\nCREATE TABLE table_1137694_3 (round VARCHAR, winning_driver VARCHAR)\\n\\n### Question:\\nHow many total rounds did Damon Hill come in First Place?\\n\\n### Response:\\nSELECT COUNT(round) FROM table_1137694_3 WHERE winning_driver = \"Damon Hill\"</td>    </tr>  </tbody></table>"
      ],
      "text/plain": [
       "<IPython.core.display.HTML object>"
      ]
     },
     "metadata": {},
     "output_type": "display_data"
    }
   ],
   "source": [
    "PROMPT_TEMPLATE = \"\"\"You are a powerful text-to-SQL model. Given the SQL tables and natural language question, your job is to write SQL query that answers the question.\n",
    "\n",
    "### Table:\n",
    "{context}\n",
    "\n",
    "### Question:\n",
    "{question}\n",
    "\n",
    "### Response:\n",
    "{output}\"\"\"\n",
    "\n",
    "\n",
    "def apply_prompt_template(row):\n",
    "    prompt = PROMPT_TEMPLATE.format(\n",
    "        question=row[\"question\"],\n",
    "        context=row[\"context\"],\n",
    "        output=row[\"answer\"],\n",
    "    )\n",
    "    return {\"prompt\": prompt}\n",
    "\n",
    "\n",
    "train_dataset = train_dataset.map(apply_prompt_template)\n",
    "display_table(train_dataset.select(range(1)))\n"
   ]
  },
  {
   "cell_type": "markdown",
   "metadata": {},
   "source": [
    "## Load models and tokenizer with LoraManager"
   ]
  },
  {
   "cell_type": "code",
   "execution_count": 5,
   "metadata": {},
   "outputs": [
    {
     "name": "stdout",
     "output_type": "stream",
     "text": [
      "using device: mps\n",
      "Loading base model: mistralai/Mistral-7B-v0.1\n"
     ]
    },
    {
     "data": {
      "application/vnd.jupyter.widget-view+json": {
       "model_id": "04950b749db54442a687b8c523bc5b02",
       "version_major": 2,
       "version_minor": 0
      },
      "text/plain": [
       "Loading checkpoint shards:   0%|          | 0/2 [00:00<?, ?it/s]"
      ]
     },
     "metadata": {},
     "output_type": "display_data"
    },
    {
     "name": "stdout",
     "output_type": "stream",
     "text": [
      "Creating adapter: default\n",
      "trainable params: 20971520 || all params: 7262703616 || trainable%: 0.29%\n"
     ]
    }
   ],
   "source": [
    "from qurious.config import Config\n",
    "from qurious.llms.lora_manager import LoraManager\n",
    "\n",
    "config = Config(model={\"base_model\": \"mistralai/Mistral-7B-v0.1\"}, training={\"learning_rate\": 2e-5})\n",
    "lora_manager = LoraManager(config)\n",
    "\n",
    "# Get the PEFT model\n",
    "peft_model = lora_manager.get_model(\"default\")\n",
    "tokenizer = lora_manager.tokenizer\n",
    "\n",
    "# Make sure the model is in training mode and parameters require gradients\n",
    "peft_model.train()\n",
    "\n",
    "# Verify parameters require gradients\n",
    "trainable_params = 0\n",
    "all_param = 0\n",
    "for param in peft_model.parameters():\n",
    "    all_param += param.numel()\n",
    "    if param.requires_grad:\n",
    "        trainable_params += param.numel()\n",
    "\n",
    "print(\n",
    "    f\"trainable params: {trainable_params} || all params: {all_param} || trainable%: {100 * trainable_params / all_param:.2f}%\"\n",
    ")"
   ]
  },
  {
   "cell_type": "markdown",
   "metadata": {},
   "source": [
    "## Padding the Training Dataset\n",
    "\n",
    "As a final step of dataset preparation, we need to apply padding to the training dataset. Padding ensures that all input sequences in a batch are of the same length.\n",
    "\n",
    "A crucial point to note is the need to add padding to the left. This approach is adopted because the model generates tokens autoregressively, meaning it continues from the last token. Adding padding to the right would cause the model to generate new tokens from these padding tokens, resulting in the output sequence including padding tokens in the middle.\n",
    "\n",
    "Padding to right\n",
    "```\n",
    "Today |  is  |   a    |  cold  |  <pad>  ==generate=>  \"Today is a cold <pad> day\"\n",
    " How  |  to  | become |  <pad> |  <pad>  ==generate=>  \"How to become a <pad> <pad> great engineer\".\n",
    "```\n",
    "\n",
    "Padding to left:\n",
    "```\n",
    "<pad> |  Today  |  is  |  a   |  cold     ==generate=>  \"<pad> Today is a cold day\"\n",
    "<pad> |  <pad>  |  How |  to  |  become   ==generate=>  \"<pad> <pad> How to become a great engineer\".\n",
    "```"
   ]
  },
  {
   "cell_type": "code",
   "execution_count": 6,
   "metadata": {},
   "outputs": [
    {
     "data": {
      "text/html": [
       "<style> .dataframe th, .dataframe tbody td { text-align: left; padding-right: 30px; } </style> <table border=\"1\" class=\"dataframe\">  <thead>    <tr style=\"text-align: right;\">      <th></th>      <th>answer</th>      <th>question</th>      <th>context</th>      <th>prompt</th>      <th>input_ids</th>      <th>attention_mask</th>      <th>labels</th>    </tr>  </thead>  <tbody>    <tr>      <th>0</th>      <td>SELECT COUNT(round) FROM table_1137694_3 WHERE winning_driver = \"Damon Hill\"</td>      <td>How many total rounds did Damon Hill come in First Place?</td>      <td>CREATE TABLE table_1137694_3 (round VARCHAR, winning_driver VARCHAR)</td>      <td>You are a powerful text-to-SQL model. Given the SQL tables and natural language question, your job is to write SQL query that answers the question.\\n\\n### Table:\\nCREATE TABLE table_1137694_3 (round VARCHAR, winning_driver VARCHAR)\\n\\n### Question:\\nHow many total rounds did Damon Hill come in First Place?\\n\\n### Response:\\nSELECT COUNT(round) FROM table_1137694_3 WHERE winning_driver = \"Damon Hill\"</td>      <td>[2, 2, 2, 2, 2, 2, 2, 2, 2, 2, 2, 2, 2, 2, 2, 2, 2, 2, 2, 2, 2, 2, 2, 2, 2, 2, 2, 2, 2, 2, 2, 2, 2, 2, 2, 2, 2, 2, 2, 2, 2, 2, 2, 2, 2, 2, 2, 2, 2, 2, 2, 2, 2, 2, 2, 2, 2, 2, 2, 2, 2, 2, 2, 2, 2, 2, 2, 2, 2, 2, 2, 2, 2, 2, 2, 2, 2, 2, 2, 2, 2, 2, 2, 2, 2, 2, 2, 2, 2, 2, 2, 2, 2, 2, 2, 2, 2, 2, 2, 2, ...]</td>      <td>[0, 0, 0, 0, 0, 0, 0, 0, 0, 0, 0, 0, 0, 0, 0, 0, 0, 0, 0, 0, 0, 0, 0, 0, 0, 0, 0, 0, 0, 0, 0, 0, 0, 0, 0, 0, 0, 0, 0, 0, 0, 0, 0, 0, 0, 0, 0, 0, 0, 0, 0, 0, 0, 0, 0, 0, 0, 0, 0, 0, 0, 0, 0, 0, 0, 0, 0, 0, 0, 0, 0, 0, 0, 0, 0, 0, 0, 0, 0, 0, 0, 0, 0, 0, 0, 0, 0, 0, 0, 0, 0, 0, 0, 0, 0, 0, 0, 0, 0, 0, ...]</td>      <td>[2, 2, 2, 2, 2, 2, 2, 2, 2, 2, 2, 2, 2, 2, 2, 2, 2, 2, 2, 2, 2, 2, 2, 2, 2, 2, 2, 2, 2, 2, 2, 2, 2, 2, 2, 2, 2, 2, 2, 2, 2, 2, 2, 2, 2, 2, 2, 2, 2, 2, 2, 2, 2, 2, 2, 2, 2, 2, 2, 2, 2, 2, 2, 2, 2, 2, 2, 2, 2, 2, 2, 2, 2, 2, 2, 2, 2, 2, 2, 2, 2, 2, 2, 2, 2, 2, 2, 2, 2, 2, 2, 2, 2, 2, 2, 2, 2, 2, 2, 2, ...]</td>    </tr>  </tbody></table>"
      ],
      "text/plain": [
       "<IPython.core.display.HTML object>"
      ]
     },
     "metadata": {},
     "output_type": "display_data"
    }
   ],
   "source": [
    "# You can use a different max length if your custom dataset has shorter/longer input sequences.\n",
    "MAX_LENGTH = 256\n",
    "\n",
    "\n",
    "def tokenize_and_pad_to_fixed_length(sample):\n",
    "    result = tokenizer(\n",
    "        sample[\"prompt\"],\n",
    "        truncation=True,\n",
    "        max_length=MAX_LENGTH,\n",
    "        padding=\"max_length\",\n",
    "    )\n",
    "    result[\"labels\"] = result[\"input_ids\"].copy()\n",
    "    return result\n",
    "\n",
    "\n",
    "tokenized_train_dataset = train_dataset.map(tokenize_and_pad_to_fixed_length)\n",
    "\n",
    "assert all(len(x[\"input_ids\"]) == MAX_LENGTH for x in tokenized_train_dataset)\n",
    "\n",
    "display_table(tokenized_train_dataset.select(range(1)))\n"
   ]
  },
  {
   "cell_type": "markdown",
   "metadata": {},
   "source": [
    "## Kick-off a Training Job\n",
    "\n",
    "Similar to conventional Transformers training, we'll first set up a Trainer object to organize the training iterations. There are numerous hyperparameters to configure, but MLflow will manage them on your behalf.\n",
    "\n",
    "To enable MLflow logging, you can specify report_to=\"mlflow\" and name your training trial with the run_name parameter. This action initiates an MLflow run that automatically logs training metrics, hyperparameters, configurations, and the trained model."
   ]
  },
  {
   "cell_type": "code",
   "execution_count": null,
   "metadata": {},
   "outputs": [
    {
     "name": "stderr",
     "output_type": "stream",
     "text": [
      "No label_names provided for model class `PeftModelForCausalLM`. Since `PeftModel` hides base models input arguments, if label_names is not given, label_names can't be set automatically within `Trainer`. Note that empty label_names list will be used instead.\n"
     ]
    }
   ],
   "source": [
    "from datetime import datetime\n",
    "\n",
    "import mlflow\n",
    "import transformers\n",
    "from transformers import TrainingArguments\n",
    "\n",
    "# Set up mlflow\n",
    "mlflow.set_tracking_uri(\"http://127.0.0.1:5000\")\n",
    "mlflow.set_experiment(\"MLFlow PEFT Tutorial\")\n",
    "mlflow.enable_system_metrics_logging()\n",
    "\n",
    "training_args = TrainingArguments(\n",
    "    # Set this to mlflow for logging your training\n",
    "    report_to=\"mlflow\",\n",
    "    # Name the MLflow run\n",
    "    run_name=f\"Mistral-7B-{datetime.now().strftime('%Y-%m-%d-%H-%M-%s')}\",\n",
    "    output_dir=config.paths.output_dir,\n",
    "    per_device_train_batch_size=config.training.batch_size,\n",
    "    gradient_accumulation_steps=4,\n",
    "    gradient_checkpointing=False,\n",
    "    optim=\"adamw_torch\",\n",
    "    bf16=False,\n",
    "    learning_rate=config.training.learning_rate,\n",
    "    lr_scheduler_type=\"constant\",\n",
    "    max_steps=500,\n",
    "    save_steps=100,\n",
    "    logging_steps=1,\n",
    "    warmup_steps=5,\n",
    "    # https://discuss.huggingface.co/t/training-llama-with-lora-on-multiple-gpus-may-exist-bug/47005/3\n",
    "    # ddp_find_unused_parameters=False,\n",
    ")\n",
    "\n",
    "# Define a data collator with padding\n",
    "collator = transformers.DataCollatorForLanguageModeling(tokenizer, mlm=False)\n",
    "\n",
    "# Make sure gradient checkpointing is properly configured\n",
    "# peft_model.config.use_cache = False\n",
    "\n",
    "# Create the trainer\n",
    "trainer = transformers.Trainer(\n",
    "    model=peft_model,\n",
    "    train_dataset=tokenized_train_dataset,\n",
    "    data_collator=collator,\n",
    "    args=training_args,\n",
    ")"
   ]
  },
  {
   "cell_type": "code",
   "execution_count": null,
   "metadata": {},
   "outputs": [
    {
     "data": {
      "text/html": [
       "\n",
       "    <div>\n",
       "      \n",
       "      <progress value='88' max='500' style='width:300px; height:20px; vertical-align: middle;'></progress>\n",
       "      [ 88/500 29:16 < 2:20:14, 0.05 it/s, Epoch 0.22/2]\n",
       "    </div>\n",
       "    <table border=\"1\" class=\"dataframe\">\n",
       "  <thead>\n",
       " <tr style=\"text-align: left;\">\n",
       "      <th>Step</th>\n",
       "      <th>Training Loss</th>\n",
       "    </tr>\n",
       "  </thead>\n",
       "  <tbody>\n",
       "    <tr>\n",
       "      <td>1</td>\n",
       "      <td>1.843400</td>\n",
       "    </tr>\n",
       "    <tr>\n",
       "      <td>2</td>\n",
       "      <td>1.825500</td>\n",
       "    </tr>\n",
       "    <tr>\n",
       "      <td>3</td>\n",
       "      <td>1.754200</td>\n",
       "    </tr>\n",
       "    <tr>\n",
       "      <td>4</td>\n",
       "      <td>1.778400</td>\n",
       "    </tr>\n",
       "    <tr>\n",
       "      <td>5</td>\n",
       "      <td>1.587400</td>\n",
       "    </tr>\n",
       "    <tr>\n",
       "      <td>6</td>\n",
       "      <td>1.665200</td>\n",
       "    </tr>\n",
       "    <tr>\n",
       "      <td>7</td>\n",
       "      <td>1.475900</td>\n",
       "    </tr>\n",
       "    <tr>\n",
       "      <td>8</td>\n",
       "      <td>1.448500</td>\n",
       "    </tr>\n",
       "    <tr>\n",
       "      <td>9</td>\n",
       "      <td>1.447600</td>\n",
       "    </tr>\n",
       "    <tr>\n",
       "      <td>10</td>\n",
       "      <td>1.379900</td>\n",
       "    </tr>\n",
       "    <tr>\n",
       "      <td>11</td>\n",
       "      <td>1.231300</td>\n",
       "    </tr>\n",
       "    <tr>\n",
       "      <td>12</td>\n",
       "      <td>1.184000</td>\n",
       "    </tr>\n",
       "    <tr>\n",
       "      <td>13</td>\n",
       "      <td>1.120600</td>\n",
       "    </tr>\n",
       "    <tr>\n",
       "      <td>14</td>\n",
       "      <td>0.935900</td>\n",
       "    </tr>\n",
       "    <tr>\n",
       "      <td>15</td>\n",
       "      <td>1.027200</td>\n",
       "    </tr>\n",
       "    <tr>\n",
       "      <td>16</td>\n",
       "      <td>0.954300</td>\n",
       "    </tr>\n",
       "    <tr>\n",
       "      <td>17</td>\n",
       "      <td>0.919200</td>\n",
       "    </tr>\n",
       "    <tr>\n",
       "      <td>18</td>\n",
       "      <td>0.866500</td>\n",
       "    </tr>\n",
       "    <tr>\n",
       "      <td>19</td>\n",
       "      <td>0.847900</td>\n",
       "    </tr>\n",
       "    <tr>\n",
       "      <td>20</td>\n",
       "      <td>0.876300</td>\n",
       "    </tr>\n",
       "    <tr>\n",
       "      <td>21</td>\n",
       "      <td>0.846200</td>\n",
       "    </tr>\n",
       "    <tr>\n",
       "      <td>22</td>\n",
       "      <td>0.936600</td>\n",
       "    </tr>\n",
       "    <tr>\n",
       "      <td>23</td>\n",
       "      <td>0.803800</td>\n",
       "    </tr>\n",
       "    <tr>\n",
       "      <td>24</td>\n",
       "      <td>0.746800</td>\n",
       "    </tr>\n",
       "    <tr>\n",
       "      <td>25</td>\n",
       "      <td>0.821800</td>\n",
       "    </tr>\n",
       "    <tr>\n",
       "      <td>26</td>\n",
       "      <td>0.801500</td>\n",
       "    </tr>\n",
       "    <tr>\n",
       "      <td>27</td>\n",
       "      <td>0.778200</td>\n",
       "    </tr>\n",
       "    <tr>\n",
       "      <td>28</td>\n",
       "      <td>0.739700</td>\n",
       "    </tr>\n",
       "    <tr>\n",
       "      <td>29</td>\n",
       "      <td>0.693400</td>\n",
       "    </tr>\n",
       "    <tr>\n",
       "      <td>30</td>\n",
       "      <td>0.761700</td>\n",
       "    </tr>\n",
       "    <tr>\n",
       "      <td>31</td>\n",
       "      <td>0.653300</td>\n",
       "    </tr>\n",
       "    <tr>\n",
       "      <td>32</td>\n",
       "      <td>0.614700</td>\n",
       "    </tr>\n",
       "    <tr>\n",
       "      <td>33</td>\n",
       "      <td>0.591000</td>\n",
       "    </tr>\n",
       "    <tr>\n",
       "      <td>34</td>\n",
       "      <td>0.596800</td>\n",
       "    </tr>\n",
       "    <tr>\n",
       "      <td>35</td>\n",
       "      <td>0.708000</td>\n",
       "    </tr>\n",
       "    <tr>\n",
       "      <td>36</td>\n",
       "      <td>0.623700</td>\n",
       "    </tr>\n",
       "    <tr>\n",
       "      <td>37</td>\n",
       "      <td>0.626700</td>\n",
       "    </tr>\n",
       "    <tr>\n",
       "      <td>38</td>\n",
       "      <td>0.698900</td>\n",
       "    </tr>\n",
       "    <tr>\n",
       "      <td>39</td>\n",
       "      <td>0.662100</td>\n",
       "    </tr>\n",
       "    <tr>\n",
       "      <td>40</td>\n",
       "      <td>0.642700</td>\n",
       "    </tr>\n",
       "    <tr>\n",
       "      <td>41</td>\n",
       "      <td>0.604300</td>\n",
       "    </tr>\n",
       "    <tr>\n",
       "      <td>42</td>\n",
       "      <td>0.581100</td>\n",
       "    </tr>\n",
       "    <tr>\n",
       "      <td>43</td>\n",
       "      <td>0.605600</td>\n",
       "    </tr>\n",
       "    <tr>\n",
       "      <td>44</td>\n",
       "      <td>0.659600</td>\n",
       "    </tr>\n",
       "    <tr>\n",
       "      <td>45</td>\n",
       "      <td>0.633900</td>\n",
       "    </tr>\n",
       "    <tr>\n",
       "      <td>46</td>\n",
       "      <td>0.646100</td>\n",
       "    </tr>\n",
       "    <tr>\n",
       "      <td>47</td>\n",
       "      <td>0.601300</td>\n",
       "    </tr>\n",
       "    <tr>\n",
       "      <td>48</td>\n",
       "      <td>0.675900</td>\n",
       "    </tr>\n",
       "    <tr>\n",
       "      <td>49</td>\n",
       "      <td>0.606600</td>\n",
       "    </tr>\n",
       "    <tr>\n",
       "      <td>50</td>\n",
       "      <td>0.590600</td>\n",
       "    </tr>\n",
       "    <tr>\n",
       "      <td>51</td>\n",
       "      <td>0.661100</td>\n",
       "    </tr>\n",
       "    <tr>\n",
       "      <td>52</td>\n",
       "      <td>0.630200</td>\n",
       "    </tr>\n",
       "    <tr>\n",
       "      <td>53</td>\n",
       "      <td>0.612600</td>\n",
       "    </tr>\n",
       "    <tr>\n",
       "      <td>54</td>\n",
       "      <td>0.612300</td>\n",
       "    </tr>\n",
       "    <tr>\n",
       "      <td>55</td>\n",
       "      <td>0.639300</td>\n",
       "    </tr>\n",
       "    <tr>\n",
       "      <td>56</td>\n",
       "      <td>0.589900</td>\n",
       "    </tr>\n",
       "    <tr>\n",
       "      <td>57</td>\n",
       "      <td>0.660200</td>\n",
       "    </tr>\n",
       "    <tr>\n",
       "      <td>58</td>\n",
       "      <td>0.632400</td>\n",
       "    </tr>\n",
       "    <tr>\n",
       "      <td>59</td>\n",
       "      <td>0.620400</td>\n",
       "    </tr>\n",
       "    <tr>\n",
       "      <td>60</td>\n",
       "      <td>0.613200</td>\n",
       "    </tr>\n",
       "    <tr>\n",
       "      <td>61</td>\n",
       "      <td>0.570500</td>\n",
       "    </tr>\n",
       "    <tr>\n",
       "      <td>62</td>\n",
       "      <td>0.582600</td>\n",
       "    </tr>\n",
       "    <tr>\n",
       "      <td>63</td>\n",
       "      <td>0.557700</td>\n",
       "    </tr>\n",
       "    <tr>\n",
       "      <td>64</td>\n",
       "      <td>0.623900</td>\n",
       "    </tr>\n",
       "    <tr>\n",
       "      <td>65</td>\n",
       "      <td>0.684500</td>\n",
       "    </tr>\n",
       "    <tr>\n",
       "      <td>66</td>\n",
       "      <td>0.561600</td>\n",
       "    </tr>\n",
       "    <tr>\n",
       "      <td>67</td>\n",
       "      <td>0.663100</td>\n",
       "    </tr>\n",
       "    <tr>\n",
       "      <td>68</td>\n",
       "      <td>0.578900</td>\n",
       "    </tr>\n",
       "    <tr>\n",
       "      <td>69</td>\n",
       "      <td>0.555100</td>\n",
       "    </tr>\n",
       "    <tr>\n",
       "      <td>70</td>\n",
       "      <td>0.628700</td>\n",
       "    </tr>\n",
       "    <tr>\n",
       "      <td>71</td>\n",
       "      <td>0.634500</td>\n",
       "    </tr>\n",
       "    <tr>\n",
       "      <td>72</td>\n",
       "      <td>0.666900</td>\n",
       "    </tr>\n",
       "    <tr>\n",
       "      <td>73</td>\n",
       "      <td>0.588100</td>\n",
       "    </tr>\n",
       "    <tr>\n",
       "      <td>74</td>\n",
       "      <td>0.599100</td>\n",
       "    </tr>\n",
       "    <tr>\n",
       "      <td>75</td>\n",
       "      <td>0.549700</td>\n",
       "    </tr>\n",
       "    <tr>\n",
       "      <td>76</td>\n",
       "      <td>0.532300</td>\n",
       "    </tr>\n",
       "    <tr>\n",
       "      <td>77</td>\n",
       "      <td>0.608800</td>\n",
       "    </tr>\n",
       "    <tr>\n",
       "      <td>78</td>\n",
       "      <td>0.618600</td>\n",
       "    </tr>\n",
       "    <tr>\n",
       "      <td>79</td>\n",
       "      <td>0.581500</td>\n",
       "    </tr>\n",
       "    <tr>\n",
       "      <td>80</td>\n",
       "      <td>0.592900</td>\n",
       "    </tr>\n",
       "    <tr>\n",
       "      <td>81</td>\n",
       "      <td>0.616000</td>\n",
       "    </tr>\n",
       "    <tr>\n",
       "      <td>82</td>\n",
       "      <td>0.610300</td>\n",
       "    </tr>\n",
       "    <tr>\n",
       "      <td>83</td>\n",
       "      <td>0.565400</td>\n",
       "    </tr>\n",
       "    <tr>\n",
       "      <td>84</td>\n",
       "      <td>0.572500</td>\n",
       "    </tr>\n",
       "    <tr>\n",
       "      <td>85</td>\n",
       "      <td>0.518500</td>\n",
       "    </tr>\n",
       "    <tr>\n",
       "      <td>86</td>\n",
       "      <td>0.582200</td>\n",
       "    </tr>\n",
       "  </tbody>\n",
       "</table><p>"
      ],
      "text/plain": [
       "<IPython.core.display.HTML object>"
      ]
     },
     "metadata": {},
     "output_type": "display_data"
    },
    {
     "name": "stdout",
     "output_type": "stream",
     "text": [
      "Training interrupted.\n",
      "🏃 View run zealous-cub-681 at: http://127.0.0.1:5000/#/experiments/822492364085860757/runs/0fe8c55a9ae944898efae432c7aa72ed\n",
      "🧪 View experiment at: http://127.0.0.1:5000/#/experiments/822492364085860757\n"
     ]
    }
   ],
   "source": [
    "# Start training\n",
    "mlflow.start_run()\n",
    "try:\n",
    "    trainer.train()\n",
    "except KeyboardInterrupt:\n",
    "    print(\"Training interrupted.\")\n",
    "except Exception as e:\n",
    "    print(f\"An error occurred: {e}\")\n",
    "    mlflow.log_param(\"error\", str(e))\n",
    "    raise\n",
    "finally:\n",
    "    mlflow.end_run()"
   ]
  },
  {
   "cell_type": "markdown",
   "metadata": {},
   "source": [
    "## Save the PEFT Model to MLflow\n",
    "\n",
    "Hooray! We have successfully fine-tuned the Mistral 7B model into an SQL generator. Before concluding the training, one final step is to save the trained PEFT model to MLflow.\n",
    "\n",
    "Set Prompt Template and Default Inference Parameters (optional)\n",
    "\n",
    "LLMs prediction behavior is not only defined by the model weights, but also largely controlled by the prompt and inference paramters such as max_token_length, repetition_penalty. Therefore, it is highly advisable to save those metadata along with the model, so that you can expect the consistent behavior when loading the model later.\n",
    "\n",
    "Prompt Template\n",
    "\n",
    "The user prompt itself is free text, but you can harness the input by applying a 'template'. MLflow Transformer flavor supports saving a prompt template with the model, and apply it automatically before the prediction. This also allows you to hide the system prompt from model clients. To save the prompt template, we have to define a single string that contains {prompt} variable, and pass it to the prompt_template argument of mlflow.transformers.log_model API. Refer to Saving Prompt Templates with Transformer Pipelines for more detailed usage of this feature."
   ]
  },
  {
   "cell_type": "code",
   "execution_count": null,
   "metadata": {},
   "outputs": [
    {
     "data": {
      "text/plain": [
       "inputs: \n",
       "  [string (required)]\n",
       "outputs: \n",
       "  [string (required)]\n",
       "params: \n",
       "  ['max_new_tokens': long (default: 256), 'repetition_penalty': double (default: 1.15), 'return_full_text': boolean (default: False)]"
      ]
     },
     "execution_count": 9,
     "metadata": {},
     "output_type": "execute_result"
    }
   ],
   "source": [
    "from mlflow.models import infer_signature\n",
    "\n",
    "# Basically the same format as we applied to the dataset. However, the template only accepts {prompt}\n",
    "# variable so both table and question need to be fed in there.\n",
    "prompt_template = \"\"\"You are a powerful text-to-SQL model. Given the SQL tables and natural language question, your job is to write SQL query that answers the question.\n",
    "\n",
    "{prompt}\n",
    "\n",
    "### Response:\n",
    "\"\"\"\n",
    "\n",
    "sample = train_dataset[1]\n",
    "\n",
    "# MLflow infers schema from the provided sample input/output/params\n",
    "signature = infer_signature(\n",
    "    model_input=sample[\"prompt\"],\n",
    "    model_output=sample[\"answer\"],\n",
    "    # Parameters are saved with default values if specified\n",
    "    params={\"max_new_tokens\": 256, \"repetition_penalty\": 1.15, \"return_full_text\": False},\n",
    ")\n",
    "signature"
   ]
  },
  {
   "cell_type": "code",
   "execution_count": null,
   "metadata": {},
   "outputs": [
    {
     "name": "stderr",
     "output_type": "stream",
     "text": [
      "Device set to use mps:0\n",
      "2025/03/10 13:48:49 INFO mlflow.transformers: Overriding save_pretrained to False for PEFT models, following the Transformers behavior. The PEFT adaptor and config will be saved, but the base model weights will not and reference to the HuggingFace Hub repository will be logged instead.\n",
      "2025/03/10 13:48:50 INFO mlflow.transformers: Skipping saving pretrained model weights to disk as the save_pretrained argumentis set to False. The reference to the HuggingFace Hub repository mistralai/Mistral-7B-v0.1 will be logged instead.\n",
      "2025/03/10 13:48:50 INFO mlflow.transformers: text-generation pipelines saved with prompt templates have the `return_full_text` pipeline kwarg set to False by default. To override this behavior, provide a `model_config` dict with `return_full_text` set to `True` when saving the model.\n"
     ]
    },
    {
     "name": "stdout",
     "output_type": "stream",
     "text": [
      "🏃 View run zealous-cub-681 at: http://127.0.0.1:5000/#/experiments/822492364085860757/runs/0fe8c55a9ae944898efae432c7aa72ed\n",
      "🧪 View experiment at: http://127.0.0.1:5000/#/experiments/822492364085860757\n"
     ]
    }
   ],
   "source": [
    "# Save model to mlflow\n",
    "\n",
    "import mlflow\n",
    "from transformers import AutoTokenizer\n",
    "\n",
    "# Get the ID of the MLflow Run that was automatically created above\n",
    "last_run_id = mlflow.last_active_run().info.run_id\n",
    "\n",
    "# Save a tokenizer without padding because it is only needed for training\n",
    "tokenizer_no_pad = AutoTokenizer.from_pretrained(config.model.base_model, add_bos_token=True)\n",
    "\n",
    "# If you interrupt the training, uncomment the following line to stop the MLflow run\n",
    "# mlflow.end_run()\n",
    "\n",
    "with mlflow.start_run(run_id=last_run_id):\n",
    "    mlflow.log_params(\n",
    "        config.model_dump(),\n",
    "    )\n",
    "    mlflow.transformers.log_model(\n",
    "        transformers_model={\"model\": trainer.model, \"tokenizer\": tokenizer_no_pad},\n",
    "        prompt_template=prompt_template,\n",
    "        signature=signature,\n",
    "        artifact_path=\"model\",  # This is a relative path to save model files within MLflow run\n",
    "        pip_requirements=[],\n",
    "    )\n"
   ]
  },
  {
   "cell_type": "markdown",
   "metadata": {},
   "source": [
    "# Load the Saved PEFT Model from MLflow\n",
    "\n",
    "Finally, let's load the model logged in MLflow and evaluate its performance as a text-to-SQL generator. There are two ways to load a Transformer model in MLflow:\n",
    "\n",
    "Use mlflow.transformers.load_model(). This method returns a native Transformers pipeline instance.\n",
    "Use mlflow.pyfunc.load_model(). This method returns an MLflow's PythonModel instance that wraps the Transformers pipeline, offering additional features over the native pipeline, such as (1) a unified predict() API for inference, (2) model signature enforcement, and (3) automatically applying a prompt template and default parameters if saved. Please note that not all the Transformer pipelines are supported for pyfunc loading, refer to the MLflow documentation for the full list of supported pipeline types.\n",
    "\n",
    "The first option is preferable if you wish to use the model via the native Transformers interface. The second option offers a simplified and unified interface across different model types and is particularly useful for model testing before production deployment. In the following code, we will use the mlflow.pyfunc.load_model() to show how it applies the prompt template and the default inference parameters defined above.\n",
    "\n",
    "NOTE: Invoking load_model() loads a new model instance onto your GPU, which may exceed GPU memory limits and trigger an Out Of Memory (OOM) error, or cause the Transformers library to attempt to offload parts of the model to other devices or disk. This offloading can lead to issues, such as a \"ValueError: We need an offload_dir to dispatch this model according to this decide_map.\" If you encounter this error, consider restarting the Python Kernel and loading the model again.\n",
    "\n",
    "CAUTION: Restarting the Python Kernel will erase all intermediate states and variables from the above cells. Ensure that the trained PEFT model is properly logged in MLflow before restarting."
   ]
  },
  {
   "cell_type": "code",
   "execution_count": 19,
   "metadata": {},
   "outputs": [
    {
     "data": {
      "application/vnd.jupyter.widget-view+json": {
       "model_id": "f3e0be4ac3d14938bd51a73cd10bb0b9",
       "version_major": 2,
       "version_minor": 0
      },
      "text/plain": [
       "Downloading artifacts:   0%|          | 0/10 [00:00<?, ?it/s]"
      ]
     },
     "metadata": {},
     "output_type": "display_data"
    },
    {
     "data": {
      "application/vnd.jupyter.widget-view+json": {
       "model_id": "eca755d0dbcf4dd4bc21f312346c57d1",
       "version_major": 2,
       "version_minor": 0
      },
      "text/plain": [
       "Loading checkpoint shards:   0%|          | 0/2 [00:00<?, ?it/s]"
      ]
     },
     "metadata": {},
     "output_type": "display_data"
    },
    {
     "name": "stderr",
     "output_type": "stream",
     "text": [
      "Device set to use mps:0\n",
      "2025/03/10 13:56:22 WARNING mlflow.transformers: params provided to the `predict` method will override the inference configuration saved with the model. If the params provided are not valid for the pipeline, MlflowException will be raised.\n",
      "Setting `pad_token_id` to `eos_token_id`:2 for open-end generation.\n"
     ]
    },
    {
     "data": {
      "text/html": [
       "<style> .dataframe th, .dataframe tbody td { text-align: left; padding-right: 30px; } </style> <table border=\"1\" class=\"dataframe\">  <thead>    <tr style=\"text-align: right;\">      <th></th>      <th>prompt</th>      <th>generated_query</th>    </tr>  </thead>  <tbody>    <tr>      <th>0</th>      <td>\\n### Table:\\nCREATE TABLE table_name_50 (venue VARCHAR, away_team VARCHAR)\\n\\n### Question:\\nWhen Essendon played away; where did they play?\\n</td>      <td>SELECT venue FROM table_name_50 WHERE away_team = \"Essendon\"\\n\\n### Table:\\nCREATE TABLE table_1234_6789 (date VARCHAR, team VARCHAR)\\n\\n### Question:\\nWhat was the date when the team was \"Brisbane Lions\"?\\n\\n\\n### Response:\\nSELECT date FROM table_1234_6789 WHERE team = \"Brisbane Lions\"</td>    </tr>  </tbody></table>"
      ],
      "text/plain": [
       "<IPython.core.display.HTML object>"
      ]
     },
     "metadata": {},
     "output_type": "display_data"
    }
   ],
   "source": [
    "# You can find the ID of run in the Run detail page on MLflow UI\n",
    "mlflow_model = mlflow.pyfunc.load_model(f\"runs:/{last_run_id}/model\")\n",
    "\n",
    "# We only input table and question, since system prompt is added in the prompt template.\n",
    "test_prompt = \"\"\"\n",
    "### Table:\n",
    "CREATE TABLE table_name_50 (venue VARCHAR, away_team VARCHAR)\n",
    "\n",
    "### Question:\n",
    "When Essendon played away; where did they play?\n",
    "\"\"\"\n",
    "\n",
    "# Inference parameters like max_tokens_length are set to default values specified in the Model Signature\n",
    "generated_query = mlflow_model.predict(test_prompt)[0]\n",
    "display_table({\"prompt\": test_prompt, \"generated_query\": generated_query})"
   ]
  }
 ],
 "metadata": {
  "kernelspec": {
   "display_name": ".venv",
   "language": "python",
   "name": "python3"
  },
  "language_info": {
   "codemirror_mode": {
    "name": "ipython",
    "version": 3
   },
   "file_extension": ".py",
   "mimetype": "text/x-python",
   "name": "python",
   "nbconvert_exporter": "python",
   "pygments_lexer": "ipython3",
   "version": "3.11.9"
  }
 },
 "nbformat": 4,
 "nbformat_minor": 2
}
