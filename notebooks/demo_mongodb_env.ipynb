{
 "cells": [
  {
   "cell_type": "code",
   "execution_count": 1,
   "metadata": {},
   "outputs": [
    {
     "name": "stdout",
     "output_type": "stream",
     "text": [
      "{'_id': 0, 'x': 0, 'y': 75}\n",
      "{'_id': 1, 'x': 23, 'y': 76}\n",
      "{'_id': 2, 'x': 62, 'y': 69}\n",
      "{'_id': 3, 'x': 20, 'y': 99}\n",
      "{'_id': 4, 'x': 99, 'y': 40}\n",
      "\n",
      "... 100000 documents in the collection ...\n"
     ]
    },
    {
     "data": {
      "text/plain": [
       "{'x_1': [('x', 1)],\n",
       " 'y_1': [('y', 1)],\n",
       " 'x_1_y_1': [('x', 1), ('y', 1)],\n",
       " 'COLL_SCAN': [('$natural', 1)]}"
      ]
     },
     "execution_count": 1,
     "metadata": {},
     "output_type": "execute_result"
    }
   ],
   "source": [
    "from qurious.rl.environments.mongodb.mongodb_environment import MongoDBEnvironment\n",
    "\n",
    "env = MongoDBEnvironment(\"mongodb://localhost:27017\", \"qurious\", \"points_2d\")\n",
    "env._create_2d_dataset(100000)\n",
    "\n",
    "docs = list(env.collection.find())\n",
    "for d in docs[:5]:\n",
    "    print(d)\n",
    "count = env.collection.count_documents({})\n",
    "print(f\"\\n... {count} documents in the collection ...\")\n",
    "\n",
    "env.indexes"
   ]
  },
  {
   "cell_type": "code",
   "execution_count": 2,
   "metadata": {},
   "outputs": [
    {
     "name": "stdout",
     "output_type": "stream",
     "text": [
      "state: None\n",
      "next step: {'x': {'$gte': 36, '$lte': 54}, 'y': {'$gte': 11, '$lte': 27}}\n",
      "reward: -47\n",
      "done: True\n",
      "info: {'explain': {'executionSuccess': True, 'nReturned': 100000, 'executionTimeMillis': 47, 'totalKeysExamined': 100000, 'totalDocsExamined': 100000, 'executionStages': {'isCached': False, 'stage': 'FETCH', 'nReturned': 100000, 'executionTimeMillisEstimate': 43, 'works': 100001, 'advanced': 100000, 'needTime': 0, 'needYield': 0, 'saveState': 2, 'restoreState': 2, 'isEOF': 1, 'docsExamined': 100000, 'alreadyHasObj': 0, 'inputStage': {'stage': 'IXSCAN', 'nReturned': 100000, 'executionTimeMillisEstimate': 2, 'works': 100001, 'advanced': 100000, 'needTime': 0, 'needYield': 0, 'saveState': 2, 'restoreState': 2, 'isEOF': 1, 'keyPattern': {'x': 1}, 'indexName': 'x_1', 'isMultiKey': False, 'multiKeyPaths': {'x': []}, 'isUnique': False, 'isSparse': False, 'isPartial': False, 'indexVersion': 2, 'direction': 'forward', 'indexBounds': {'x': ['[MinKey, MaxKey]']}, 'keysExamined': 100000, 'seeks': 1, 'dupsTested': 0, 'dupsDropped': 0}}, 'allPlansExecution': []}}\n"
     ]
    }
   ],
   "source": [
    "state = env.get_state()\n",
    "print(f\"state: {state}\")\n",
    "\n",
    "next_step, reward, done, info = env.step(\"x_1\")\n",
    "\n",
    "print(f\"next step: {next_step}\")\n",
    "print(f\"reward: {reward}\")\n",
    "print(f\"done: {done}\")\n",
    "print(f\"info: {info}\")\n"
   ]
  },
  {
   "cell_type": "code",
   "execution_count": 3,
   "metadata": {},
   "outputs": [],
   "source": [
    "import random\n",
    "\n",
    "for i in range(1000):\n",
    "    state = env.get_state()\n",
    "    action = random.choice(env.action_space)\n",
    "    next_step, reward, done, info = env.step(action)\n",
    "    # print(f\"state={state}, action={action}, next_step={next_step}, reward={reward}, done={done}, info={info}\")\n"
   ]
  },
  {
   "cell_type": "code",
   "execution_count": null,
   "metadata": {},
   "outputs": [
    {
     "name": "stdout",
     "output_type": "stream",
     "text": [
      "using device: mps\n"
     ]
    },
    {
     "data": {
      "text/plain": [
       "array([ 0, 10, 50, 60])"
      ]
     },
     "execution_count": 10,
     "metadata": {},
     "output_type": "execute_result"
    }
   ],
   "source": [
    "import numpy as np\n",
    "\n",
    "from qurious.rl.policies.nn import DiscreteNNPolicy\n",
    "\n",
    "\n",
    "def feature_extractor(state):\n",
    "    \"\"\"state is a MongoDB query with x and y fields and range queries.\"\"\"\n",
    "    x_min = state[\"x\"][\"$gte\"]\n",
    "    x_max = state[\"x\"][\"$lte\"]\n",
    "    y_min = state[\"y\"][\"$gte\"]\n",
    "    y_max = state[\"y\"][\"$lte\"]\n",
    "    return np.array([x_min, x_max, y_min, y_max])\n",
    "\n",
    "\n",
    "policy = DiscreteNNPolicy(input_dim=2, n_actions=env.n_actions, feature_extractor=feature_extractor)\n",
    "\n",
    "state = {\"x\": {\"$gte\": 0, \"$lte\": 10}, \"y\": {\"$gte\": 50, \"$lte\": 60}}\n",
    "features = feature_extractor(state)\n",
    "features"
   ]
  }
 ],
 "metadata": {
  "kernelspec": {
   "display_name": ".venv",
   "language": "python",
   "name": "python3"
  },
  "language_info": {
   "codemirror_mode": {
    "name": "ipython",
    "version": 3
   },
   "file_extension": ".py",
   "mimetype": "text/x-python",
   "name": "python",
   "nbconvert_exporter": "python",
   "pygments_lexer": "ipython3",
   "version": "3.11.9"
  }
 },
 "nbformat": 4,
 "nbformat_minor": 2
}
