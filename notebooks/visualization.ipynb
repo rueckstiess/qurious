{
 "cells": [
  {
   "cell_type": "code",
   "execution_count": 1,
   "metadata": {},
   "outputs": [],
   "source": [
    "import sys\n",
    "\n",
    "sys.path.append(\"..\")"
   ]
  },
  {
   "cell_type": "code",
   "execution_count": 2,
   "metadata": {},
   "outputs": [
    {
     "name": "stdout",
     "output_type": "stream",
     "text": [
      "A . . . .\n",
      ". . . # .\n",
      ". . # . .\n",
      ". # . . .\n",
      ". . . . G\n",
      "\n"
     ]
    }
   ],
   "source": [
    "from qurious.environments import GridWorld\n",
    "\n",
    "env = GridWorld(\n",
    "    width=5, height=5, start_pos=(0, 0), goal_pos=[(4, 4)], obstacles=[(3, 1), (2, 2), (1, 3)], step_penalty=0.1\n",
    ")\n",
    "\n",
    "print(env.render())"
   ]
  },
  {
   "cell_type": "code",
   "execution_count": 3,
   "metadata": {},
   "outputs": [],
   "source": [
    "# create agent with e-greedy policy\n",
    "\n",
    "from qurious.agents import SarsaAgent\n",
    "from qurious.policy import DeterministicTabularPolicy, EpsilonGreedyPolicy\n",
    "from qurious.value_fns import TabularActionValueFunction\n",
    "\n",
    "# Create agent components\n",
    "n_states = env.get_num_states()\n",
    "n_actions = env.get_num_actions()\n",
    "\n",
    "# Q-function\n",
    "q_function = TabularActionValueFunction(n_states, n_actions)\n",
    "\n",
    "# Base policy (will be updated based on Q-values)\n",
    "base_policy = DeterministicTabularPolicy(n_states, n_actions)\n",
    "\n",
    "# Epsilon-greedy exploration policy\n",
    "epsilon = 0.5\n",
    "policy = EpsilonGreedyPolicy(base_policy, epsilon, decay_rate=0.99)\n",
    "\n",
    "# Create agent\n",
    "agent = SarsaAgent(policy, q_function, gamma=0.99)\n",
    "agent.enable_experience_tracking()"
   ]
  },
  {
   "cell_type": "code",
   "execution_count": 9,
   "metadata": {},
   "outputs": [
    {
     "name": "stdout",
     "output_type": "stream",
     "text": [
      "A . . . .\n",
      ". . . # .\n",
      ". . # . .\n",
      ". # . . .\n",
      ". . . . G\n",
      "\n"
     ]
    },
    {
     "data": {
      "image/png": "[encoded data removed]",
      "text/plain": [
       "<Figure size 750x750 with 1 Axes>"
      ]
     },
     "metadata": {},
     "output_type": "display_data"
    }
   ],
   "source": [
    "# create visualization\n",
    "\n",
    "from qurious.visualization import GridWorldVisualizer, AgentLayer, GridLayer\n",
    "\n",
    "viz = GridWorldVisualizer(env, theme=\"light\")\n",
    "viz.add_layer(GridLayer())\n",
    "viz.add_layer(AgentLayer())\n",
    "fig, ax = viz.render_matplotlib()\n",
    "\n",
    "print(viz.render_ascii())\n"
   ]
  },
  {
   "cell_type": "code",
   "execution_count": null,
   "metadata": {},
   "outputs": [
    {
     "ename": "KeyboardInterrupt",
     "evalue": "",
     "output_type": "error",
     "traceback": [
      "\u001b[0;31m---------------------------------------------------------------------------\u001b[0m",
      "\u001b[0;31mKeyboardInterrupt\u001b[0m                         Traceback (most recent call last)",
      "Cell \u001b[0;32mIn[10], line 14\u001b[0m\n\u001b[1;32m     10\u001b[0m     viz\u001b[38;5;241m.\u001b[39mrender_matplotlib(fig\u001b[38;5;241m=\u001b[39mfig, ax\u001b[38;5;241m=\u001b[39max)\n\u001b[1;32m     11\u001b[0m     sleep(\u001b[38;5;241m0.1\u001b[39m)\n\u001b[0;32m---> 14\u001b[0m \u001b[43mtrain_agent\u001b[49m\u001b[43m(\u001b[49m\u001b[43menv\u001b[49m\u001b[43m,\u001b[49m\u001b[43m \u001b[49m\u001b[43magent\u001b[49m\u001b[43m,\u001b[49m\u001b[43m \u001b[49m\u001b[43mnum_episodes\u001b[49m\u001b[38;5;241;43m=\u001b[39;49m\u001b[38;5;241;43m1000\u001b[39;49m\u001b[43m,\u001b[49m\u001b[43m \u001b[49m\u001b[43mstep_callback\u001b[49m\u001b[38;5;241;43m=\u001b[39;49m\u001b[43mstep_callback\u001b[49m\u001b[43m)\u001b[49m\n",
      "File \u001b[0;32m~/code/qurious/notebooks/../qurious/utils.py:26\u001b[0m, in \u001b[0;36mtrain_agent\u001b[0;34m(env, agent, num_episodes, step_callback, episode_callback)\u001b[0m\n\u001b[1;32m     23\u001b[0m     state \u001b[38;5;241m=\u001b[39m next_state\n\u001b[1;32m     25\u001b[0m     \u001b[38;5;28;01mif\u001b[39;00m step_callback:\n\u001b[0;32m---> 26\u001b[0m         \u001b[43mstep_callback\u001b[49m\u001b[43m(\u001b[49m\u001b[43menv\u001b[49m\u001b[43m,\u001b[49m\u001b[43m \u001b[49m\u001b[43magent\u001b[49m\u001b[43m,\u001b[49m\u001b[43m \u001b[49m\u001b[43mtransition\u001b[49m\u001b[38;5;241;43m=\u001b[39;49m\u001b[43magent\u001b[49m\u001b[38;5;241;43m.\u001b[39;49m\u001b[43mexperience\u001b[49m\u001b[38;5;241;43m.\u001b[39;49m\u001b[43mget_current_transition\u001b[49m\u001b[43m(\u001b[49m\u001b[43m)\u001b[49m\u001b[43m)\u001b[49m\n\u001b[1;32m     28\u001b[0m \u001b[38;5;28;01mif\u001b[39;00m episode_callback:\n\u001b[1;32m     29\u001b[0m     episode_callback(env, agent, episode\u001b[38;5;241m=\u001b[39magent\u001b[38;5;241m.\u001b[39mexperience\u001b[38;5;241m.\u001b[39mget_current_episode())\n",
      "Cell \u001b[0;32mIn[10], line 11\u001b[0m, in \u001b[0;36mstep_callback\u001b[0;34m(*args, **kwargs)\u001b[0m\n\u001b[1;32m      9\u001b[0m clear_output()\n\u001b[1;32m     10\u001b[0m viz\u001b[38;5;241m.\u001b[39mrender_matplotlib(fig\u001b[38;5;241m=\u001b[39mfig, ax\u001b[38;5;241m=\u001b[39max)\n\u001b[0;32m---> 11\u001b[0m sleep(\u001b[38;5;241m0.1\u001b[39m)\n",
      "\u001b[0;31mKeyboardInterrupt\u001b[0m: "
     ]
    },
    {
     "data": {
      "text/plain": [
       "<Figure size 640x480 with 0 Axes>"
      ]
     },
     "metadata": {},
     "output_type": "display_data"
    }
   ],
   "source": [
    "from qurious.utils import train_agent, clear_output\n",
    "from qurious.visualization import PolicyLayer\n",
    "from time import sleep\n",
    "\n",
    "viz.add_layer(PolicyLayer(agent.policy, show_text=False))\n",
    "\n",
    "\n",
    "def step_callback(*args, **kwargs):\n",
    "    clear_output()\n",
    "    viz.render_matplotlib(fig=fig, ax=ax)\n",
    "    sleep(0.1)\n",
    "\n",
    "\n",
    "train_agent(env, agent, num_episodes=1000, step_callback=step_callback)\n"
   ]
  }
 ],
 "metadata": {
  "kernelspec": {
   "display_name": ".venv",
   "language": "python",
   "name": "python3"
  },
  "language_info": {
   "codemirror_mode": {
    "name": "ipython",
    "version": 3
   },
   "file_extension": ".py",
   "mimetype": "text/x-python",
   "name": "python",
   "nbconvert_exporter": "python",
   "pygments_lexer": "ipython3",
   "version": "3.11.9"
  }
 },
 "nbformat": 4,
 "nbformat_minor": 2
}
