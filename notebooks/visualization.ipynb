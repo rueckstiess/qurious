{
 "cells": [
  {
   "cell_type": "code",
   "execution_count": 1,
   "metadata": {},
   "outputs": [],
   "source": [
    "import sys\n",
    "\n",
    "sys.path.append(\"..\")"
   ]
  },
  {
   "cell_type": "code",
   "execution_count": 2,
   "metadata": {},
   "outputs": [
    {
     "name": "stdout",
     "output_type": "stream",
     "text": [
      "A . . . .\n",
      ". . . # .\n",
      ". . # . .\n",
      ". # . . .\n",
      ". . . . G\n",
      "\n"
     ]
    }
   ],
   "source": [
    "from qurious.environments import GridWorld\n",
    "\n",
    "env = GridWorld(\n",
    "    width=5, height=5, start_pos=(0, 0), goal_pos=[(4, 4)], obstacles=[(3, 1), (2, 2), (1, 3)], step_penalty=0.1\n",
    ")\n",
    "\n",
    "print(env.render())"
   ]
  },
  {
   "cell_type": "code",
   "execution_count": 3,
   "metadata": {},
   "outputs": [],
   "source": [
    "# create agent with e-greedy policy\n",
    "\n",
    "from qurious.agents import SarsaAgent\n",
    "from qurious.policy import DeterministicTabularPolicy, EpsilonGreedyPolicy\n",
    "from qurious.value_fns import TabularActionValueFunction\n",
    "\n",
    "# Create agent components\n",
    "n_states = env.get_num_states()\n",
    "n_actions = env.get_num_actions()\n",
    "\n",
    "# Q-function\n",
    "q_function = TabularActionValueFunction(n_states, n_actions)\n",
    "\n",
    "# Base policy (will be updated based on Q-values)\n",
    "base_policy = DeterministicTabularPolicy(n_states, n_actions)\n",
    "\n",
    "# Epsilon-greedy exploration policy\n",
    "epsilon = 0.5\n",
    "policy = EpsilonGreedyPolicy(base_policy, epsilon, decay_rate=0.99)\n",
    "\n",
    "# Create agent\n",
    "agent = SarsaAgent(policy, q_function, gamma=0.99)\n",
    "agent.enable_experience_tracking()"
   ]
  },
  {
   "cell_type": "code",
   "execution_count": null,
   "metadata": {},
   "outputs": [
    {
     "name": "stdout",
     "output_type": "stream",
     "text": [
      ". . . . .\n",
      ". . . . .\n",
      ". . . . .\n",
      ". . . . .\n",
      ". . . . .\n",
      "\n"
     ]
    },
    {
     "data": {
      "image/png": "[encoded data removed]",
      "text/plain": [
       "<Figure size 750x750 with 1 Axes>"
      ]
     },
     "metadata": {},
     "output_type": "display_data"
    }
   ],
   "source": [
    "# create visualization\n",
    "\n",
    "from qurious.visualization import GridWorldVisualizer, AgentLayer, GridLayer\n",
    "\n",
    "viz = GridWorldVisualizer(env, theme=\"light\")\n",
    "viz.add_layer(GridLayer())\n",
    "viz.add_layer(AgentLayer())\n",
    "fig, ax = viz.render_matplotlib()\n",
    "\n",
    "print(viz.render_ascii())\n"
   ]
  },
  {
   "cell_type": "code",
   "execution_count": null,
   "metadata": {},
   "outputs": [],
   "source": [
    "from qurious.utils import train_agent\n",
    "\n",
    "train_agent(env, agent, num_episodes=1000)"
   ]
  }
 ],
 "metadata": {
  "kernelspec": {
   "display_name": ".venv",
   "language": "python",
   "name": "python3"
  },
  "language_info": {
   "codemirror_mode": {
    "name": "ipython",
    "version": 3
   },
   "file_extension": ".py",
   "mimetype": "text/x-python",
   "name": "python",
   "nbconvert_exporter": "python",
   "pygments_lexer": "ipython3",
   "version": "3.11.9"
  }
 },
 "nbformat": 4,
 "nbformat_minor": 2
}
